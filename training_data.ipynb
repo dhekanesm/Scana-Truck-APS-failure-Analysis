{
 "cells": [
  {
   "cell_type": "markdown",
   "metadata": {},
   "source": [
    "three trained models are saved : 1. Impute model 2. Resampling model 3.Machine learning model\n",
    "\n",
    "training for LR model"
   ]
  },
  {
   "cell_type": "markdown",
   "metadata": {},
   "source": [
    "# APS Failure at Scania Trucks"
   ]
  },
  {
   "cell_type": "markdown",
   "metadata": {},
   "source": [
    "## Introduction\n",
    "\n",
    "-The dataset consists of data collected from heavy Scania\n",
    "trucks in everyday usage. The system in focus is the\n",
    "Air Pressure system (APS) which generates pressurised\n",
    "air that are utilized in various functions in a truck,\n",
    "such as braking and gear changes. The datasets'\n",
    "positive class consists of component failures\n",
    "for a specific component of the APS system.\n",
    "The negative class consists of trucks with failures\n",
    "for components not related to the APS. The data consists\n",
    "of a subset of all available data, selected by experts.\n"
   ]
  },
  {
   "cell_type": "markdown",
   "metadata": {},
   "source": [
    "- The training set contains 60000 examples in total in which\n",
    "59000 belong to the negative class and 1000 positive class.\n",
    "The test set contains 16000 examples.\n",
    "\n",
    "-  Number of Attributes: 171 \n",
    "\n",
    "-  Attribute Information:\n",
    "The attribute names of the data have been anonymized for\n",
    "proprietary reasons. It consists of both single numerical\n",
    "counters and histograms consisting of bins with different\n",
    "conditions. Typically the histograms have open-ended\n",
    "conditions at each end. For example if we measuring\n",
    "the ambient temperature 'T' then the histogram could\n",
    "be defined with 4 bins where:\n",
    "- bin 1 collect values for temperature T < -20\n",
    "- bin 2 collect values for temperature T >= -20 and T < 0\n",
    "- bin 3 collect values for temperature T >= 0 and T < 20\n",
    "- bin 4 collect values for temperature T > 20\n",
    "\n"
   ]
  },
  {
   "cell_type": "code",
   "execution_count": 99,
   "metadata": {},
   "outputs": [],
   "source": [
    "#import all the necessary libraries\n",
    "\n",
    "import warnings\n",
    "warnings.filterwarnings('ignore')\n",
    "import pandas as pd\n",
    "import numpy as np\n",
    "import matplotlib.pyplot as plt\n",
    "from sklearn.model_selection import GridSearchCV,RandomizedSearchCV\n",
    "from sklearn.impute import SimpleImputer\n",
    "from sklearn.preprocessing import StandardScaler\n",
    "from xgboost import XGBClassifier\n",
    "from sklearn.ensemble import RandomForestClassifier,AdaBoostClassifier\n",
    "from sklearn.linear_model import LogisticRegression, SGDClassifier\n",
    "from sklearn.metrics import confusion_matrix,roc_auc_score,roc_curve,auc\n",
    "from sklearn.metrics import accuracy_score,precision_score,recall_score,f1_score,classification_report\n",
    "import seaborn as sns\n",
    "from sklearn.decomposition import pca\n",
    "from datetime import datetime\n",
    "from fancyimpute import SoftImpute\n",
    "from impyute.imputation.cs import mice\n",
    "from tqdm import tqdm\n",
    "import missingno as msno\n",
    "from sklearn.decomposition import pca\n",
    "from datetime import datetime\n",
    "from imblearn.pipeline import Pipeline\n",
    "from imblearn.over_sampling import SMOTE\n",
    "from imblearn.under_sampling import RandomUnderSampler\n",
    "from sklearn.metrics import plot_confusion_matrix\n",
    "from sklearn.model_selection import train_test_split\n",
    "from sklearn.tree import DecisionTreeClassifier\n",
    "import pickle"
   ]
  },
  {
   "cell_type": "markdown",
   "metadata": {},
   "source": [
    "## 1. Reading Data"
   ]
  },
  {
   "cell_type": "markdown",
   "metadata": {},
   "source": [
    "### 1.1 Train data"
   ]
  },
  {
   "cell_type": "code",
   "execution_count": 100,
   "metadata": {},
   "outputs": [
    {
     "name": "stdout",
     "output_type": "stream",
     "text": [
      "Train Data:\n",
      "Number of datapoints: 60000\n",
      "Number of Features: 171\n"
     ]
    }
   ],
   "source": [
    "#Obtain the training data from csv file\n",
    "train_data = pd.read_csv('aps_failure_training_set.csv')\n",
    "#train_data1 = pd.read_csv('aps_failure_training_set.csv')\n",
    "# Distribution of data\n",
    "print(\"Train Data:\")\n",
    "print(\"Number of datapoints: {}\\nNumber of Features: {}\".format(train_data.shape[0],train_data.shape[1]))"
   ]
  },
  {
   "cell_type": "code",
   "execution_count": 3,
   "metadata": {},
   "outputs": [
    {
     "data": {
      "text/html": [
       "<div>\n",
       "<style scoped>\n",
       "    .dataframe tbody tr th:only-of-type {\n",
       "        vertical-align: middle;\n",
       "    }\n",
       "\n",
       "    .dataframe tbody tr th {\n",
       "        vertical-align: top;\n",
       "    }\n",
       "\n",
       "    .dataframe thead th {\n",
       "        text-align: right;\n",
       "    }\n",
       "</style>\n",
       "<table border=\"1\" class=\"dataframe\">\n",
       "  <thead>\n",
       "    <tr style=\"text-align: right;\">\n",
       "      <th></th>\n",
       "      <th>class</th>\n",
       "      <th>aa_000</th>\n",
       "      <th>ab_000</th>\n",
       "      <th>ac_000</th>\n",
       "      <th>ad_000</th>\n",
       "      <th>ae_000</th>\n",
       "      <th>af_000</th>\n",
       "      <th>ag_000</th>\n",
       "      <th>ag_001</th>\n",
       "      <th>ag_002</th>\n",
       "      <th>...</th>\n",
       "      <th>ee_002</th>\n",
       "      <th>ee_003</th>\n",
       "      <th>ee_004</th>\n",
       "      <th>ee_005</th>\n",
       "      <th>ee_006</th>\n",
       "      <th>ee_007</th>\n",
       "      <th>ee_008</th>\n",
       "      <th>ee_009</th>\n",
       "      <th>ef_000</th>\n",
       "      <th>eg_000</th>\n",
       "    </tr>\n",
       "  </thead>\n",
       "  <tbody>\n",
       "    <tr>\n",
       "      <th>0</th>\n",
       "      <td>neg</td>\n",
       "      <td>76698</td>\n",
       "      <td>na</td>\n",
       "      <td>2130706438</td>\n",
       "      <td>280</td>\n",
       "      <td>0</td>\n",
       "      <td>0</td>\n",
       "      <td>0</td>\n",
       "      <td>0</td>\n",
       "      <td>0</td>\n",
       "      <td>...</td>\n",
       "      <td>1240520</td>\n",
       "      <td>493384</td>\n",
       "      <td>721044</td>\n",
       "      <td>469792</td>\n",
       "      <td>339156</td>\n",
       "      <td>157956</td>\n",
       "      <td>73224</td>\n",
       "      <td>0</td>\n",
       "      <td>0</td>\n",
       "      <td>0</td>\n",
       "    </tr>\n",
       "    <tr>\n",
       "      <th>1</th>\n",
       "      <td>neg</td>\n",
       "      <td>33058</td>\n",
       "      <td>na</td>\n",
       "      <td>0</td>\n",
       "      <td>na</td>\n",
       "      <td>0</td>\n",
       "      <td>0</td>\n",
       "      <td>0</td>\n",
       "      <td>0</td>\n",
       "      <td>0</td>\n",
       "      <td>...</td>\n",
       "      <td>421400</td>\n",
       "      <td>178064</td>\n",
       "      <td>293306</td>\n",
       "      <td>245416</td>\n",
       "      <td>133654</td>\n",
       "      <td>81140</td>\n",
       "      <td>97576</td>\n",
       "      <td>1500</td>\n",
       "      <td>0</td>\n",
       "      <td>0</td>\n",
       "    </tr>\n",
       "    <tr>\n",
       "      <th>2</th>\n",
       "      <td>neg</td>\n",
       "      <td>41040</td>\n",
       "      <td>na</td>\n",
       "      <td>228</td>\n",
       "      <td>100</td>\n",
       "      <td>0</td>\n",
       "      <td>0</td>\n",
       "      <td>0</td>\n",
       "      <td>0</td>\n",
       "      <td>0</td>\n",
       "      <td>...</td>\n",
       "      <td>277378</td>\n",
       "      <td>159812</td>\n",
       "      <td>423992</td>\n",
       "      <td>409564</td>\n",
       "      <td>320746</td>\n",
       "      <td>158022</td>\n",
       "      <td>95128</td>\n",
       "      <td>514</td>\n",
       "      <td>0</td>\n",
       "      <td>0</td>\n",
       "    </tr>\n",
       "    <tr>\n",
       "      <th>3</th>\n",
       "      <td>neg</td>\n",
       "      <td>12</td>\n",
       "      <td>0</td>\n",
       "      <td>70</td>\n",
       "      <td>66</td>\n",
       "      <td>0</td>\n",
       "      <td>10</td>\n",
       "      <td>0</td>\n",
       "      <td>0</td>\n",
       "      <td>0</td>\n",
       "      <td>...</td>\n",
       "      <td>240</td>\n",
       "      <td>46</td>\n",
       "      <td>58</td>\n",
       "      <td>44</td>\n",
       "      <td>10</td>\n",
       "      <td>0</td>\n",
       "      <td>0</td>\n",
       "      <td>0</td>\n",
       "      <td>4</td>\n",
       "      <td>32</td>\n",
       "    </tr>\n",
       "    <tr>\n",
       "      <th>4</th>\n",
       "      <td>neg</td>\n",
       "      <td>60874</td>\n",
       "      <td>na</td>\n",
       "      <td>1368</td>\n",
       "      <td>458</td>\n",
       "      <td>0</td>\n",
       "      <td>0</td>\n",
       "      <td>0</td>\n",
       "      <td>0</td>\n",
       "      <td>0</td>\n",
       "      <td>...</td>\n",
       "      <td>622012</td>\n",
       "      <td>229790</td>\n",
       "      <td>405298</td>\n",
       "      <td>347188</td>\n",
       "      <td>286954</td>\n",
       "      <td>311560</td>\n",
       "      <td>433954</td>\n",
       "      <td>1218</td>\n",
       "      <td>0</td>\n",
       "      <td>0</td>\n",
       "    </tr>\n",
       "  </tbody>\n",
       "</table>\n",
       "<p>5 rows × 171 columns</p>\n",
       "</div>"
      ],
      "text/plain": [
       "  class  aa_000 ab_000      ac_000 ad_000 ae_000 af_000 ag_000 ag_001 ag_002  \\\n",
       "0   neg   76698     na  2130706438    280      0      0      0      0      0   \n",
       "1   neg   33058     na           0     na      0      0      0      0      0   \n",
       "2   neg   41040     na         228    100      0      0      0      0      0   \n",
       "3   neg      12      0          70     66      0     10      0      0      0   \n",
       "4   neg   60874     na        1368    458      0      0      0      0      0   \n",
       "\n",
       "   ...   ee_002  ee_003  ee_004  ee_005  ee_006  ee_007  ee_008 ee_009 ef_000  \\\n",
       "0  ...  1240520  493384  721044  469792  339156  157956   73224      0      0   \n",
       "1  ...   421400  178064  293306  245416  133654   81140   97576   1500      0   \n",
       "2  ...   277378  159812  423992  409564  320746  158022   95128    514      0   \n",
       "3  ...      240      46      58      44      10       0       0      0      4   \n",
       "4  ...   622012  229790  405298  347188  286954  311560  433954   1218      0   \n",
       "\n",
       "  eg_000  \n",
       "0      0  \n",
       "1      0  \n",
       "2      0  \n",
       "3     32  \n",
       "4      0  \n",
       "\n",
       "[5 rows x 171 columns]"
      ]
     },
     "execution_count": 3,
     "metadata": {},
     "output_type": "execute_result"
    }
   ],
   "source": [
    "train_data.head(5)"
   ]
  },
  {
   "cell_type": "markdown",
   "metadata": {},
   "source": [
    "## 2. Data Preprocessing"
   ]
  },
  {
   "cell_type": "markdown",
   "metadata": {},
   "source": [
    "### 2.1 Missing data processing:"
   ]
  },
  {
   "cell_type": "code",
   "execution_count": 4,
   "metadata": {},
   "outputs": [],
   "source": [
    "def missing_value(data):\n",
    "    \n",
    "    # processing all missing data and combining them in one format\n",
    "    data.replace(to_replace = ['nan','na','NA','n.a.','?','--','n/a'], value = np.NaN, inplace = True)\n",
    "    \n",
    "    #replacing all class labels : train data\n",
    "    # Source : https://stackoverflow.com/questions/42320834/sklearn-changing-string-class-label-to-int\n",
    "    #neg = 0  #pos = 1\n",
    "    data['class'] = data['class'].map({'neg':0,'pos':1}) \n",
    "    \n",
    "    #Seperating the class labels : train data\n",
    "    y_train = data['class']\n",
    "    data.drop(['class'], axis = 1, inplace= True)\n",
    "    \n",
    "    \n",
    "    #Calculating the number of missing values\n",
    "    missing_value = data.isnull().sum()\n",
    "    # sorting features with missing value : highest to lowest\n",
    "    missing_col = missing_value.sort_values(ascending = False)\n",
    "        #print('Sorted data based on missing values : \\n',missing_col)\n",
    "    #plotting the features with missing values\n",
    "    missing_col.plot.bar(figsize=(50,20))\n",
    "    plt.xlabel('Feature names',fontsize=30)\n",
    "    plt.ylabel('Missing value count',fontsize=30)\n",
    "        #plt.show()\n",
    "    \n",
    "    #Processing missing values\n",
    "    \n",
    "    # Code to identify rows which contains features(less than 5% missing values)\n",
    "\n",
    "    missing_rvalue = data.isnull().sum(axis=1)\n",
    "    missing_row = missing_rvalue.sort_values(ascending = False)\n",
    "    #print(missing_row)\n",
    "    \n",
    "    missing_per = (missing_col/len(data))*100\n",
    "        #print('Missing value percentage of train data: \\n',missing_per)\n",
    "    \n",
    "    return missing_per,data,y_train\n",
    "    "
   ]
  },
  {
   "cell_type": "markdown",
   "metadata": {},
   "source": [
    "### 2.2 Model based Imputation"
   ]
  },
  {
   "cell_type": "code",
   "execution_count": 5,
   "metadata": {},
   "outputs": [],
   "source": [
    "#https://gist.github.com/michelkana/6175ef96b44311ccbdca3cb8fddca53c\n",
    "def impute_model(df):\n",
    "    \n",
    "    from sklearn.ensemble import RandomForestRegressor\n",
    "    #getting the missing value feature\n",
    "    # Cols_nan =  Column still remain with na values\n",
    "    # cols_no_nan = Columns which have zero nan values\n",
    "    cols_nan = df.columns[df.isna().any()].tolist()\n",
    "    #print('Number of Columns with NA values : ',len(cols_nan),'column list : ',cols_nan)\n",
    "    \n",
    "    cols_no_nan = df.columns.difference(cols_nan).values.tolist()\n",
    "    #print('Number of Columns without NA values : ',len(cols_no_nan),'column list : ',cols_no_nan)    \n",
    "    \n",
    "    model_impute = []\n",
    "    \n",
    "    for col in cols_nan:\n",
    "        #Creating the train data\n",
    "        train_data = df.dropna()\n",
    "        X_train = train_data[cols_no_nan] \n",
    "        y_train = train_data[col]\n",
    "            \n",
    "        #creating the test data\n",
    "        test_data = df[df[col].isna()]\n",
    "        X_test = test_data[cols_no_nan]\n",
    "        y_test = test_data[col]\n",
    "            \n",
    "        #using the model based imputation\n",
    "        rf = RandomForestRegressor()\n",
    "        rfr = rf.fit(X_train,y_train)\n",
    "        \n",
    "        model_impute.append(rfr)\n",
    "        \n",
    "        \n",
    "        #replacing the actual features\n",
    "        df.loc[df[col].isna(),col] = rfr.predict(X_test)\n",
    "        #print('The feature {} is processed'.format(col))\n",
    "    \n",
    "    return df,model_impute"
   ]
  },
  {
   "cell_type": "markdown",
   "metadata": {},
   "source": [
    "### 2.3 Creating Processed train data file :"
   ]
  },
  {
   "cell_type": "code",
   "execution_count": 6,
   "metadata": {},
   "outputs": [],
   "source": [
    "def dtrain(data):\n",
    "    \n",
    "    n_estimators=40\n",
    "    \n",
    "    #call function for missing value information\n",
    "    missing_per,train_data,y_train = missing_value(data)\n",
    "    \n",
    "    # 4 steps to work on missing value data\n",
    "    \n",
    "    # 1. Dropping column with missing value greater than 85%\n",
    "        # Identifying features having higher percentage of missing value\n",
    "    missing_features1 = missing_per[missing_per > 85].index\n",
    "    train_data1 = train_data.drop(missing_features1,axis=1,inplace=False)\n",
    "        #print(train_data1.shape)\n",
    "   \n",
    "\n",
    "    # 2. Dropping rows for missing value less than 5%\n",
    "    missing_feature2 = missing_per[missing_per < 5].index\n",
    "    train_data2 = train_data1.dropna(subset = missing_feature2,axis=0,inplace=False)\n",
    "        #print(train_data2)\n",
    "    \n",
    "    # Converting Object into numeric features\n",
    "    for mis in missing_feature2:\n",
    "        train_data2[mis] = pd.to_numeric(train_data2[mis],errors='coerce')\n",
    "    \n",
    "    # 3. Median Imputation for missing value between 5% to 20%\n",
    "    \n",
    "    #missing feature 3 is the feature with missing values between 5% to 20%\n",
    "    missing_feature3 = ((missing_per[missing_per >= 5].index) & (missing_per[missing_per < 20].index))\n",
    "    \n",
    "    for mis in missing_feature3:\n",
    "        train_data2[mis] = train_data2[mis].fillna(train_data2[mis].median())\n",
    "    \n",
    "    # Converting Object into numeric features\n",
    "    for mis in missing_feature3:\n",
    "        train_data2[mis] = pd.to_numeric(train_data2[mis],errors='coerce')\n",
    "    \n",
    "    # 4. Model based imputation for missing value between 20% to 85%\n",
    "    \n",
    "    missing_feature4 = ((missing_per[missing_per >= 20].index) & (missing_per[missing_per < 85].index))\n",
    "    # Displaying missing values count\n",
    "    train_data3 = train_data2[missing_feature4]\n",
    "    #print(train_data3.isna().sum().sort_values(ascending=False))\n",
    "    \n",
    "    start = datetime.now()\n",
    "    df,model_impute = impute_model(train_data2)\n",
    "    print('Time taken to process : ',datetime.now() - start)\n",
    "    \n",
    "    # Saving the trained imputation model\n",
    "    filename = 'imputation.sav'\n",
    "    pickle.dump(model_impute,open(filename,'wb'))\n",
    "    \n",
    "    #Converting object features into numeric one\n",
    "    for mis in missing_feature4:\n",
    "        df[mis] = pd.to_numeric(df[mis],errors='coerce')\n",
    "\n",
    "    # Saving the data in csv file\n",
    "    df['class'] = y_train\n",
    "    df.to_csv('processed_train_data_final.csv')\n",
    "    \n",
    "   "
   ]
  },
  {
   "cell_type": "code",
   "execution_count": 8,
   "metadata": {},
   "outputs": [
    {
     "name": "stdout",
     "output_type": "stream",
     "text": [
      "Time taken to process :  2:22:11.215621\n"
     ]
    },
    {
     "data": {
      "image/png": "[encoded data removed]",
      "text/plain": [
       "<Figure size 3600x1440 with 1 Axes>"
      ]
     },
     "metadata": {
      "needs_background": "light"
     },
     "output_type": "display_data"
    }
   ],
   "source": [
    "# Create the processed file\n",
    "dtrain(train_data)"
   ]
  },
  {
   "cell_type": "markdown",
   "metadata": {},
   "source": [
    "## 3. Train the Data "
   ]
  },
  {
   "cell_type": "markdown",
   "metadata": {},
   "source": [
    "### 3.1 Reading processed data :"
   ]
  },
  {
   "cell_type": "code",
   "execution_count": 6,
   "metadata": {},
   "outputs": [],
   "source": [
    "train_data =  pd.read_csv('processed_train_data_final.csv')\n",
    "#seperating the class label\n",
    "y = train_data['class']\n",
    "train_data.drop(['Unnamed: 0','class'],inplace=True,axis=1)"
   ]
  },
  {
   "cell_type": "markdown",
   "metadata": {},
   "source": [
    "### 3.2. Splitting Dataset : Train and Test (80:20)"
   ]
  },
  {
   "cell_type": "code",
   "execution_count": 7,
   "metadata": {},
   "outputs": [],
   "source": [
    "#Splitting the data set into 80:20\n",
    "X_train,X_test,y_train,y_test = train_test_split(train_data,y,test_size=0.2,random_state=4,stratify=y)  "
   ]
  },
  {
   "cell_type": "code",
   "execution_count": 8,
   "metadata": {},
   "outputs": [
    {
     "name": "stdout",
     "output_type": "stream",
     "text": [
      "Train data size:  (44748, 170)\n",
      "Test data size:  (11188, 170)\n"
     ]
    }
   ],
   "source": [
    "print('Train data size: ',X_train.shape)\n",
    "print('Test data size: ', X_test.shape)"
   ]
  },
  {
   "cell_type": "code",
   "execution_count": 9,
   "metadata": {},
   "outputs": [
    {
     "name": "stdout",
     "output_type": "stream",
     "text": [
      "Complete data set distribution:  Counter({0: 55340, 1: 596})\n",
      "Train data set distribution:  Counter({0: 44271, 1: 477})\n",
      "Test data set distribution:  Counter({0: 11069, 1: 119})\n"
     ]
    }
   ],
   "source": [
    "from collections import Counter\n",
    "print('Complete data set distribution: ',Counter(y))\n",
    "print('Train data set distribution: ',Counter(y_train))\n",
    "print('Test data set distribution: ',Counter(y_test))"
   ]
  },
  {
   "cell_type": "markdown",
   "metadata": {},
   "source": [
    "## 4 Data preprocessing 2 : "
   ]
  },
  {
   "cell_type": "markdown",
   "metadata": {},
   "source": [
    "### 4.1 Resampling dataset :"
   ]
  },
  {
   "cell_type": "code",
   "execution_count": 10,
   "metadata": {},
   "outputs": [],
   "source": [
    "def get_resampling(df_train,y1,estimators,D2,X_test):\n",
    "    \n",
    "    df_train['class'] = y1\n",
    "    \n",
    "    # Resampling the dataset\n",
    "    df_list = []\n",
    "    for i in range(estimators):\n",
    "        df = df_train.sample(frac=0.4,replace=True)\n",
    "        df_list.append(df)    \n",
    "    \n",
    "    #print(estimators)\n",
    "    #print(len(df_list))\n",
    "    #print(df_list[2])\n",
    "    # Seperating class label from resampled dataset\n",
    "    y1_list = []\n",
    "    for i in range(estimators):\n",
    "        df = df_list[i]\n",
    "        y1 = df['class']\n",
    "        df.drop(['class'],inplace=True,axis=1)\n",
    "        y1_list.append(y1)\n",
    "        \n",
    "    #Creating Model datasets\n",
    "    \n",
    "    # training the dataset\n",
    "\n",
    "    pred_D2_dataset = []\n",
    "    pred_test_dataset = []\n",
    "    #pred_test_final = []\n",
    "    sample_model = []\n",
    "    \n",
    "    for iters in range(estimators):\n",
    "        \n",
    "        train_df = df_list[iters]\n",
    "        train_y1 = y1_list[iters]\n",
    "\n",
    "        model =  DecisionTreeClassifier(max_depth=3)\n",
    "        model.fit(train_df,train_y1)\n",
    "    \n",
    "        sample_model.append(model)\n",
    "\n",
    "        # Calculating and storing variable of D2 dataset individually in a list\n",
    "        y_pred = model.predict(D2)\n",
    "        pred_D2_dataset.append(y_pred)\n",
    "    \n",
    "        # Calculating and storing variable of test dataset individually in a list\n",
    "        y_test_pred = model.predict(X_test)\n",
    "        pred_test_dataset.append(y_test_pred)\n",
    "        \n",
    "    \n",
    "    # Transposing the predicted dataset\n",
    "    pred_D2_dataset = np.array(pred_D2_dataset).T\n",
    "    pred_test_dataset = np.array(pred_test_dataset).T\n",
    "    #pred_test_final = np.array(pred_test_final).T\n",
    "    \n",
    "    #Adding newly created features with existing features and transforming it into dataframe\n",
    "    D2_meta = pd.DataFrame(pred_D2_dataset)\n",
    "    D_test_meta = pd.DataFrame(pred_test_dataset)\n",
    "    \n",
    "    return D2_meta,D_test_meta,sample_model\n"
   ]
  },
  {
   "cell_type": "markdown",
   "metadata": {},
   "source": [
    "__Observations : 1. estimators decide the number of decision trees__\n",
    "\n",
    "__2. Resampling with replacement is done with 40% of D1 data__\n",
    "\n",
    "__3. In resampling y values are accomodated to maintain the integrity of data__\n",
    "\n",
    "__4. Each resampled(D1) dataset is trained using classifier and predicted dataset for D2 and X_test is created__\n",
    "\n",
    "__5. Since all process are done parallely, we have equal no of features created for D1,D2 and X_test which depends on value of n_estimators__\n",
    "\n",
    "__6. Since we are using Decisiontree as a base classifier, we dont need Normalizer and SMOTE data balancing__"
   ]
  },
  {
   "cell_type": "markdown",
   "metadata": {},
   "source": [
    "### 4.2 Data Balancing : SMOTE"
   ]
  },
  {
   "cell_type": "code",
   "execution_count": 11,
   "metadata": {},
   "outputs": [],
   "source": [
    "def get_smote(data,y):\n",
    "    \n",
    "    # transform the dataset\n",
    "    from imblearn.pipeline import Pipeline\n",
    "    from imblearn.over_sampling import SMOTE, ADASYN\n",
    "    from imblearn.under_sampling import RandomUnderSampler\n",
    "    #Oversampling the minority samples\n",
    "    oversample = SMOTE(sampling_strategy=0.6)\n",
    "    #under sampling the majority samples\n",
    "    undersample = RandomUnderSampler(sampling_strategy = 1.0)\n",
    "    \n",
    "    # setting up sequence of sampling\n",
    "    steps = [('o',oversample),('u',undersample)]\n",
    "    pipeline = Pipeline(steps=steps)\n",
    "    \n",
    "    #transform the dataset\n",
    "    smote_data,smote_y = pipeline.fit_resample(data,y)\n",
    "    \n",
    "    return smote_data,smote_y\n"
   ]
  },
  {
   "cell_type": "markdown",
   "metadata": {},
   "source": [
    "### 4.3 Score "
   ]
  },
  {
   "cell_type": "code",
   "execution_count": 77,
   "metadata": {},
   "outputs": [],
   "source": [
    "def get_score(meta_model_D2,y2,meta_model_test,y_test):\n",
    "    \n",
    "    model_lr = LogisticRegression(random_state=0,class_weight='balanced')\n",
    "    model_lr.fit(meta_model_D2,y2)\n",
    "    \n",
    "    y_pred_test = model_lr.predict(meta_model_test)\n",
    "\n",
    "    #calculate acc,f1 score\n",
    "    #accuracy score\n",
    "    accuracy = accuracy_score(y_test,y_pred_test)\n",
    "    print('Accuracy : %.3f' % accuracy)\n",
    "    #precision\n",
    "    precision = precision_score(y_test,y_pred_test)\n",
    "    print('Precision : %.3f' % precision)\n",
    "    #Recall\n",
    "    recal = recall_score(y_test,y_pred_test)\n",
    "    print('Recall : %.3f' % recal)\n",
    "    #f1 score\n",
    "    f1 = f1_score(y_test,y_pred_test)\n",
    "    print('f1_score : %.3f' % f1)\n",
    "    \n",
    "    return y_pred_test,model_lr"
   ]
  },
  {
   "cell_type": "markdown",
   "metadata": {},
   "source": [
    "### 4.4 Plotting Confusion Matrix : "
   ]
  },
  {
   "cell_type": "code",
   "execution_count": 78,
   "metadata": {},
   "outputs": [],
   "source": [
    "def get_confusion_matrix(y_test,y_pred_test): \n",
    "    #ROC AUC score\n",
    "    auc = roc_auc_score(y_test,y_pred_test)\n",
    "    print('AUC score: %.3f' % auc)\n",
    "    #confusion matrix\n",
    "    cm_test = confusion_matrix(y_test,y_pred_test)\n",
    "    #print('Confusion Matrix :\\n', matrix)\n",
    "    print('-'*120)\n",
    "    print('Confusion Matrix :','\\n',cm_test)\n",
    "    #print(con_matr)\n",
    "    print('-'*120)\n",
    "    print(\"Type 1 error (False Positives) : \",cm_test[0][1])\n",
    "    print('Type 2 error (False Negatives) :',cm_test[1][0])\n",
    "    print('-'*120)\n",
    "    Total_cost = cm_test[0][1]*10 + cm_test[1][0]*500\n",
    "    print('Total Cost = ',Total_cost)\n",
    "    print('-'*120)\n",
    "    \n",
    "    return Total_cost"
   ]
  },
  {
   "cell_type": "markdown",
   "metadata": {},
   "source": [
    "__Observations : 1. Confusion Matrix summarizes the performance of model__\n",
    "\n",
    "__2. Total cost involves all the readings with incorrect predictions multiplied by their respective weights__\n",
    "\n",
    "__3. False Negative has 50 times more weightage than False Positive in calculating performance of model__"
   ]
  },
  {
   "cell_type": "markdown",
   "metadata": {},
   "source": [
    "## 5. Main Function"
   ]
  },
  {
   "cell_type": "code",
   "execution_count": 79,
   "metadata": {},
   "outputs": [],
   "source": [
    "def custom_ensemble(X_train,y_train,X_test,y_test,n_estimators):\n",
    "    \n",
    "    print('-'*100)\n",
    "    print('Number of Estimators : ',n_estimators)\n",
    "    print('-'*100)\n",
    "    #Splitting the train dataset 50:50\n",
    "    D1,D2,y1,y2 = train_test_split(X_train,y_train,test_size=0.5,random_state=5,stratify=y_train)\n",
    "    \n",
    "    #Using SMOTE for balancing training D1 data : Using function\n",
    "    smote_D1,smote_y1 = get_smote(D1,y1)\n",
    "    \n",
    "    # Normalizing the data : using function\n",
    "        #smote_D1,D2,X_test,X_test_final = get_normalized(smote_D1,D2,X_test,X_test_final)\n",
    "    \n",
    "    #Using n_estimators creating resampling dataset & get meta models : using function\n",
    "    meta_model_D2,meta_model_test,sample_model = get_resampling(D1,y1,n_estimators,D2,X_test) \n",
    "\n",
    "    #get the score\n",
    "    y_pred_test,clf = get_score(meta_model_D2,y2,meta_model_test,y_test)\n",
    "    \n",
    "    #Plot Confusion Matrix\n",
    "    \n",
    "    plot_confusion_matrix(clf,meta_model_test,y_test)\n",
    "    \n",
    "    cost = get_confusion_matrix(y_test,y_pred_test)\n",
    "    \n",
    "    return cost"
   ]
  },
  {
   "cell_type": "code",
   "execution_count": 80,
   "metadata": {},
   "outputs": [
    {
     "name": "stdout",
     "output_type": "stream",
     "text": [
      "----------------------------------------------------------------------------------------------------\n",
      "Number of Estimators :  10\n",
      "----------------------------------------------------------------------------------------------------\n",
      "Accuracy : 0.985\n",
      "Precision : 0.399\n",
      "Recall : 0.782\n",
      "f1_score : 0.528\n",
      "AUC score: 0.884\n",
      "------------------------------------------------------------------------------------------------------------------------\n",
      "Confusion Matrix : \n",
      " [[10929   140]\n",
      " [   26    93]]\n",
      "------------------------------------------------------------------------------------------------------------------------\n",
      "Type 1 error (False Positives) :  140\n",
      "Type 2 error (False Negatives) : 26\n",
      "------------------------------------------------------------------------------------------------------------------------\n",
      "Total Cost =  14400\n",
      "------------------------------------------------------------------------------------------------------------------------\n",
      "14400\n",
      "----------------------------------------------------------------------------------------------------\n",
      "Number of Estimators :  20\n",
      "----------------------------------------------------------------------------------------------------\n",
      "Accuracy : 0.986\n",
      "Precision : 0.414\n",
      "Recall : 0.807\n",
      "f1_score : 0.547\n",
      "AUC score: 0.897\n",
      "------------------------------------------------------------------------------------------------------------------------\n",
      "Confusion Matrix : \n",
      " [[10933   136]\n",
      " [   23    96]]\n",
      "------------------------------------------------------------------------------------------------------------------------\n",
      "Type 1 error (False Positives) :  136\n",
      "Type 2 error (False Negatives) : 23\n",
      "------------------------------------------------------------------------------------------------------------------------\n",
      "Total Cost =  12860\n",
      "------------------------------------------------------------------------------------------------------------------------\n",
      "12860\n",
      "----------------------------------------------------------------------------------------------------\n",
      "Number of Estimators :  30\n",
      "----------------------------------------------------------------------------------------------------\n",
      "Accuracy : 0.986\n",
      "Precision : 0.420\n",
      "Recall : 0.798\n",
      "f1_score : 0.551\n",
      "AUC score: 0.893\n",
      "------------------------------------------------------------------------------------------------------------------------\n",
      "Confusion Matrix : \n",
      " [[10938   131]\n",
      " [   24    95]]\n",
      "------------------------------------------------------------------------------------------------------------------------\n",
      "Type 1 error (False Positives) :  131\n",
      "Type 2 error (False Negatives) : 24\n",
      "------------------------------------------------------------------------------------------------------------------------\n",
      "Total Cost =  13310\n",
      "------------------------------------------------------------------------------------------------------------------------\n",
      "13310\n",
      "----------------------------------------------------------------------------------------------------\n",
      "Number of Estimators :  40\n",
      "----------------------------------------------------------------------------------------------------\n",
      "Accuracy : 0.985\n",
      "Precision : 0.395\n",
      "Recall : 0.790\n",
      "f1_score : 0.527\n",
      "AUC score: 0.888\n",
      "------------------------------------------------------------------------------------------------------------------------\n",
      "Confusion Matrix : \n",
      " [[10925   144]\n",
      " [   25    94]]\n",
      "------------------------------------------------------------------------------------------------------------------------\n",
      "Type 1 error (False Positives) :  144\n",
      "Type 2 error (False Negatives) : 25\n",
      "------------------------------------------------------------------------------------------------------------------------\n",
      "Total Cost =  13940\n",
      "------------------------------------------------------------------------------------------------------------------------\n",
      "13940\n",
      "----------------------------------------------------------------------------------------------------\n",
      "Number of Estimators :  50\n",
      "----------------------------------------------------------------------------------------------------\n",
      "Accuracy : 0.985\n",
      "Precision : 0.407\n",
      "Recall : 0.807\n",
      "f1_score : 0.541\n",
      "AUC score: 0.897\n",
      "------------------------------------------------------------------------------------------------------------------------\n",
      "Confusion Matrix : \n",
      " [[10929   140]\n",
      " [   23    96]]\n",
      "------------------------------------------------------------------------------------------------------------------------\n",
      "Type 1 error (False Positives) :  140\n",
      "Type 2 error (False Negatives) : 23\n",
      "------------------------------------------------------------------------------------------------------------------------\n",
      "Total Cost =  12900\n",
      "------------------------------------------------------------------------------------------------------------------------\n",
      "12900\n",
      "----------------------------------------------------------------------------------------------------\n",
      "Number of Estimators :  60\n",
      "----------------------------------------------------------------------------------------------------\n",
      "Accuracy : 0.986\n",
      "Precision : 0.419\n",
      "Recall : 0.824\n",
      "f1_score : 0.555\n",
      "AUC score: 0.906\n",
      "------------------------------------------------------------------------------------------------------------------------\n",
      "Confusion Matrix : \n",
      " [[10933   136]\n",
      " [   21    98]]\n",
      "------------------------------------------------------------------------------------------------------------------------\n",
      "Type 1 error (False Positives) :  136\n",
      "Type 2 error (False Negatives) : 21\n",
      "------------------------------------------------------------------------------------------------------------------------\n",
      "Total Cost =  11860\n",
      "------------------------------------------------------------------------------------------------------------------------\n",
      "11860\n",
      "----------------------------------------------------------------------------------------------------\n",
      "Number of Estimators :  70\n",
      "----------------------------------------------------------------------------------------------------\n",
      "Accuracy : 0.986\n",
      "Precision : 0.410\n",
      "Recall : 0.723\n",
      "f1_score : 0.523\n",
      "AUC score: 0.856\n",
      "------------------------------------------------------------------------------------------------------------------------\n",
      "Confusion Matrix : \n",
      " [[10945   124]\n",
      " [   33    86]]\n",
      "------------------------------------------------------------------------------------------------------------------------\n",
      "Type 1 error (False Positives) :  124\n",
      "Type 2 error (False Negatives) : 33\n",
      "------------------------------------------------------------------------------------------------------------------------\n",
      "Total Cost =  17740\n",
      "------------------------------------------------------------------------------------------------------------------------\n",
      "17740\n",
      "----------------------------------------------------------------------------------------------------\n",
      "Number of Estimators :  80\n",
      "----------------------------------------------------------------------------------------------------\n",
      "Accuracy : 0.987\n",
      "Precision : 0.450\n",
      "Recall : 0.824\n",
      "f1_score : 0.582\n",
      "AUC score: 0.906\n",
      "------------------------------------------------------------------------------------------------------------------------\n",
      "Confusion Matrix : \n",
      " [[10949   120]\n",
      " [   21    98]]\n",
      "------------------------------------------------------------------------------------------------------------------------\n",
      "Type 1 error (False Positives) :  120\n",
      "Type 2 error (False Negatives) : 21\n",
      "------------------------------------------------------------------------------------------------------------------------\n",
      "Total Cost =  11700\n",
      "------------------------------------------------------------------------------------------------------------------------\n",
      "11700\n",
      "----------------------------------------------------------------------------------------------------\n",
      "Number of Estimators :  90\n",
      "----------------------------------------------------------------------------------------------------\n",
      "Accuracy : 0.987\n",
      "Precision : 0.443\n",
      "Recall : 0.815\n",
      "f1_score : 0.574\n",
      "AUC score: 0.902\n",
      "------------------------------------------------------------------------------------------------------------------------\n",
      "Confusion Matrix : \n",
      " [[10947   122]\n",
      " [   22    97]]\n",
      "------------------------------------------------------------------------------------------------------------------------\n",
      "Type 1 error (False Positives) :  122\n",
      "Type 2 error (False Negatives) : 22\n",
      "------------------------------------------------------------------------------------------------------------------------\n",
      "Total Cost =  12220\n",
      "------------------------------------------------------------------------------------------------------------------------\n",
      "12220\n",
      "----------------------------------------------------------------------------------------------------\n",
      "Number of Estimators :  100\n",
      "----------------------------------------------------------------------------------------------------\n"
     ]
    },
    {
     "name": "stdout",
     "output_type": "stream",
     "text": [
      "Accuracy : 0.985\n",
      "Precision : 0.392\n",
      "Recall : 0.731\n",
      "f1_score : 0.510\n",
      "AUC score: 0.859\n",
      "------------------------------------------------------------------------------------------------------------------------\n",
      "Confusion Matrix : \n",
      " [[10934   135]\n",
      " [   32    87]]\n",
      "------------------------------------------------------------------------------------------------------------------------\n",
      "Type 1 error (False Positives) :  135\n",
      "Type 2 error (False Negatives) : 32\n",
      "------------------------------------------------------------------------------------------------------------------------\n",
      "Total Cost =  17350\n",
      "------------------------------------------------------------------------------------------------------------------------\n",
      "17350\n",
      "----------------------------------------------------------------------------------------------------\n",
      "Number of Estimators :  110\n",
      "----------------------------------------------------------------------------------------------------\n",
      "Accuracy : 0.986\n",
      "Precision : 0.422\n",
      "Recall : 0.815\n",
      "f1_score : 0.556\n",
      "AUC score: 0.902\n",
      "------------------------------------------------------------------------------------------------------------------------\n",
      "Confusion Matrix : \n",
      " [[10936   133]\n",
      " [   22    97]]\n",
      "------------------------------------------------------------------------------------------------------------------------\n",
      "Type 1 error (False Positives) :  133\n",
      "Type 2 error (False Negatives) : 22\n",
      "------------------------------------------------------------------------------------------------------------------------\n",
      "Total Cost =  12330\n",
      "------------------------------------------------------------------------------------------------------------------------\n",
      "12330\n",
      "----------------------------------------------------------------------------------------------------\n",
      "Number of Estimators :  120\n",
      "----------------------------------------------------------------------------------------------------\n",
      "Accuracy : 0.985\n",
      "Precision : 0.395\n",
      "Recall : 0.790\n",
      "f1_score : 0.527\n",
      "AUC score: 0.888\n",
      "------------------------------------------------------------------------------------------------------------------------\n",
      "Confusion Matrix : \n",
      " [[10925   144]\n",
      " [   25    94]]\n",
      "------------------------------------------------------------------------------------------------------------------------\n",
      "Type 1 error (False Positives) :  144\n",
      "Type 2 error (False Negatives) : 25\n",
      "------------------------------------------------------------------------------------------------------------------------\n",
      "Total Cost =  13940\n",
      "------------------------------------------------------------------------------------------------------------------------\n",
      "13940\n",
      "Time taken to process :  0:04:46.037713\n"
     ]
    },
    {
     "data": {
      "image/png": "[encoded data removed]",
      "text/plain": [
       "<Figure size 432x288 with 2 Axes>"
      ]
     },
     "metadata": {
      "needs_background": "light"
     },
     "output_type": "display_data"
    },
    {
     "data": {
      "image/png": "[encoded data removed]",
      "text/plain": [
       "<Figure size 432x288 with 2 Axes>"
      ]
     },
     "metadata": {
      "needs_background": "light"
     },
     "output_type": "display_data"
    },
    {
     "data": {
      "image/png": "[encoded data removed]",
      "text/plain": [
       "<Figure size 432x288 with 2 Axes>"
      ]
     },
     "metadata": {
      "needs_background": "light"
     },
     "output_type": "display_data"
    },
    {
     "data": {
      "image/png": "[encoded data removed]",
      "text/plain": [
       "<Figure size 432x288 with 2 Axes>"
      ]
     },
     "metadata": {
      "needs_background": "light"
     },
     "output_type": "display_data"
    },
    {
     "data": {
      "image/png": "[encoded data removed]",
      "text/plain": [
       "<Figure size 432x288 with 2 Axes>"
      ]
     },
     "metadata": {
      "needs_background": "light"
     },
     "output_type": "display_data"
    },
    {
     "data": {
      "image/png": "[encoded data removed]",
      "text/plain": [
       "<Figure size 432x288 with 2 Axes>"
      ]
     },
     "metadata": {
      "needs_background": "light"
     },
     "output_type": "display_data"
    },
    {
     "data": {
      "image/png": "[encoded data removed]",
      "text/plain": [
       "<Figure size 432x288 with 2 Axes>"
      ]
     },
     "metadata": {
      "needs_background": "light"
     },
     "output_type": "display_data"
    },
    {
     "data": {
      "image/png": "[encoded data removed]",
      "text/plain": [
       "<Figure size 432x288 with 2 Axes>"
      ]
     },
     "metadata": {
      "needs_background": "light"
     },
     "output_type": "display_data"
    },
    {
     "data": {
      "image/png": "[encoded data removed]",
      "text/plain": [
       "<Figure size 432x288 with 2 Axes>"
      ]
     },
     "metadata": {
      "needs_background": "light"
     },
     "output_type": "display_data"
    },
    {
     "data": {
      "image/png": "[encoded data removed]",
      "text/plain": [
       "<Figure size 432x288 with 2 Axes>"
      ]
     },
     "metadata": {
      "needs_background": "light"
     },
     "output_type": "display_data"
    },
    {
     "data": {
      "image/png": "[encoded data removed]",
      "text/plain": [
       "<Figure size 432x288 with 2 Axes>"
      ]
     },
     "metadata": {
      "needs_background": "light"
     },
     "output_type": "display_data"
    },
    {
     "data": {
      "image/png": "[encoded data removed]",
      "text/plain": [
       "<Figure size 432x288 with 2 Axes>"
      ]
     },
     "metadata": {
      "needs_background": "light"
     },
     "output_type": "display_data"
    },
    {
     "data": {
      "image/png": "[encoded data removed]",
      "text/plain": [
       "<Figure size 432x288 with 1 Axes>"
      ]
     },
     "metadata": {
      "needs_background": "light"
     },
     "output_type": "display_data"
    }
   ],
   "source": [
    "#Runnning the Code\n",
    "\n",
    "estimators_list = [10,20,30,40,50,60,70,80,90,100,110,120]\n",
    "t_cost = []\n",
    "\n",
    "start = datetime.now()\n",
    "\n",
    "for estimators in estimators_list:\n",
    "    \n",
    "    Total_cost = custom_ensemble(X_train,y_train,X_test,y_test,n_estimators=estimators)\n",
    "    t_cost.append(Total_cost)\n",
    "    print(Total_cost)\n",
    "\n",
    "print('Time taken to process : ',datetime.now()-start)\n",
    "fig,ax = plt.subplots()\n",
    "#make a plot\n",
    "ax.plot(estimators_list,t_cost,color='red',marker='o')\n",
    "#set x axis\n",
    "ax.set_xlabel('Estimators',fontsize=14)\n",
    "#set y axis\n",
    "ax.set_ylabel('Cost',fontsize=14)\n",
    "\n",
    "plt.show()\n",
    "\n",
    "#print(Total_cost)"
   ]
  },
  {
   "cell_type": "markdown",
   "metadata": {},
   "source": [
    "__Observations : Using machine learning model, the above code help us to find out the optimum number of estimators__"
   ]
  },
  {
   "cell_type": "markdown",
   "metadata": {
    "scrolled": true
   },
   "source": [
    "## 8 Hyperparameter Tuning "
   ]
  },
  {
   "cell_type": "code",
   "execution_count": 81,
   "metadata": {
    "scrolled": true
   },
   "outputs": [],
   "source": [
    "n_estimators = 80\n",
    "#Splitting the train dataset 50:50\n",
    "D1,D2,y1,y2 = train_test_split(X_train,y_train,test_size=0.5,random_state=5,stratify=y_train)\n",
    "    \n",
    "    \n",
    "#Using n_estimators creating resampling dataset & get meta models : using function\n",
    "meta_model_D2,meta_model_test,sample_model1 = get_resampling(D1,y1,n_estimators,D2,X_test) \n",
    "    \n",
    "#Creating resampling model\n",
    "filename = 'resamplingLR80.sav'\n",
    "pickle.dump(sample_model1,open(filename,'wb'))\n",
    "    \n"
   ]
  },
  {
   "cell_type": "markdown",
   "metadata": {},
   "source": [
    "### 8.1 Logistic Regression : C parameter"
   ]
  },
  {
   "cell_type": "code",
   "execution_count": 82,
   "metadata": {
    "scrolled": true
   },
   "outputs": [
    {
     "name": "stdout",
     "output_type": "stream",
     "text": [
      "Fitting 3 folds for each of 18 candidates, totalling 54 fits\n"
     ]
    },
    {
     "name": "stderr",
     "output_type": "stream",
     "text": [
      "[Parallel(n_jobs=-1)]: Using backend LokyBackend with 8 concurrent workers.\n",
      "[Parallel(n_jobs=-1)]: Done  34 tasks      | elapsed:    3.2s\n",
      "[Parallel(n_jobs=-1)]: Done  54 out of  54 | elapsed:    5.1s finished\n"
     ]
    },
    {
     "data": {
      "text/plain": [
       "GridSearchCV(cv=3, estimator=LogisticRegression(n_jobs=-1, random_state=0),\n",
       "             n_jobs=-1,\n",
       "             param_grid={'C': array([1.e-04, 1.e-03, 1.e-02, 1.e-01, 1.e+00, 1.e+01, 1.e+02, 1.e+03,\n",
       "       1.e+04]),\n",
       "                         'penalty': ['l1', 'l2'], 'solver': ['liblinear']},\n",
       "             verbose=True)"
      ]
     },
     "execution_count": 82,
     "metadata": {},
     "output_type": "execute_result"
    }
   ],
   "source": [
    "# https://scikit-learn.org/stable/modules/generated/sklearn.model_selection.GridSearchCV.html\n",
    "\n",
    "from sklearn.linear_model import LogisticRegression\n",
    "from sklearn.model_selection import GridSearchCV\n",
    "\n",
    "clf = LogisticRegression(n_jobs=-1, random_state=0)\n",
    "\n",
    "penalty = ['l1','l2']\n",
    "\n",
    "C = np.logspace(-4,4,9)\n",
    "\n",
    "hyperparameters = dict(C=C,penalty=penalty,solver=['liblinear'])\n",
    "\n",
    "clf_log = GridSearchCV(clf,hyperparameters,cv=3,verbose=True,n_jobs=-1)\n",
    "\n",
    "clf_log.fit(meta_model_D2,y2)"
   ]
  },
  {
   "cell_type": "code",
   "execution_count": 83,
   "metadata": {},
   "outputs": [
    {
     "name": "stdout",
     "output_type": "stream",
     "text": [
      "Best Penalty :  l2\n",
      "Best C :  0.1\n"
     ]
    }
   ],
   "source": [
    "print(\"Best Penalty : \",clf_log.best_estimator_.get_params()['penalty'])\n",
    "print(\"Best C : \",clf_log.best_estimator_.get_params()['C'])"
   ]
  },
  {
   "cell_type": "code",
   "execution_count": 84,
   "metadata": {},
   "outputs": [],
   "source": [
    "K = clf_log.best_estimator_.get_params()['C']"
   ]
  },
  {
   "cell_type": "markdown",
   "metadata": {},
   "source": [
    "### 8.2 Logistic Regression : class weight"
   ]
  },
  {
   "cell_type": "code",
   "execution_count": 88,
   "metadata": {
    "scrolled": false
   },
   "outputs": [
    {
     "name": "stdout",
     "output_type": "stream",
     "text": [
      "{0: 10, 1: 1}\n",
      "AUC score: 0.685\n",
      "------------------------------------------------------------------------------------------------------------------------\n",
      "Confusion Matrix : \n",
      " [[11066     3]\n",
      " [   75    44]]\n",
      "------------------------------------------------------------------------------------------------------------------------\n",
      "Type 1 error (False Positives) :  3\n",
      "Type 2 error (False Negatives) : 75\n",
      "------------------------------------------------------------------------------------------------------------------------\n",
      "Total Cost =  37530\n",
      "------------------------------------------------------------------------------------------------------------------------\n",
      "{0: 1, 1: 1}\n",
      "AUC score: 0.747\n",
      "------------------------------------------------------------------------------------------------------------------------\n",
      "Confusion Matrix : \n",
      " [[11052    17]\n",
      " [   60    59]]\n",
      "------------------------------------------------------------------------------------------------------------------------\n",
      "Type 1 error (False Positives) :  17\n",
      "Type 2 error (False Negatives) : 60\n",
      "------------------------------------------------------------------------------------------------------------------------\n",
      "Total Cost =  30170\n",
      "------------------------------------------------------------------------------------------------------------------------\n",
      "{0: 1, 1: 10}\n",
      "AUC score: 0.829\n",
      "------------------------------------------------------------------------------------------------------------------------\n",
      "Confusion Matrix : \n",
      " [[11005    64]\n",
      " [   40    79]]\n",
      "------------------------------------------------------------------------------------------------------------------------\n",
      "Type 1 error (False Positives) :  64\n",
      "Type 2 error (False Negatives) : 40\n",
      "------------------------------------------------------------------------------------------------------------------------\n",
      "Total Cost =  20640\n",
      "------------------------------------------------------------------------------------------------------------------------\n",
      "{0: 1, 1: 100}\n",
      "AUC score: 0.889\n",
      "------------------------------------------------------------------------------------------------------------------------\n",
      "Confusion Matrix : \n",
      " [[10944   125]\n",
      " [   25    94]]\n",
      "------------------------------------------------------------------------------------------------------------------------\n",
      "Type 1 error (False Positives) :  125\n",
      "Type 2 error (False Negatives) : 25\n",
      "------------------------------------------------------------------------------------------------------------------------\n",
      "Total Cost =  13750\n",
      "------------------------------------------------------------------------------------------------------------------------\n",
      "{0: 1, 1: 500}\n",
      "AUC score: 0.911\n",
      "------------------------------------------------------------------------------------------------------------------------\n",
      "Confusion Matrix : \n",
      " [[10871   198]\n",
      " [   19   100]]\n",
      "------------------------------------------------------------------------------------------------------------------------\n",
      "Type 1 error (False Positives) :  198\n",
      "Type 2 error (False Negatives) : 19\n",
      "------------------------------------------------------------------------------------------------------------------------\n",
      "Total Cost =  11480\n",
      "------------------------------------------------------------------------------------------------------------------------\n"
     ]
    }
   ],
   "source": [
    "cls_weight = [{0:10,1:1},{0:1,1:1},{0:1,1:10},{0:1,1:100},{0:1,1:500}]\n",
    "for i in range(len(cls_weight)):\n",
    "    balance = cls_weight[i]\n",
    "    print(balance)\n",
    "    clf_logit = LogisticRegression(n_jobs=-1,random_state=0,C=K,penalty='l2',class_weight=balance)\n",
    "    clf_logit.fit(meta_model_D2,y2)\n",
    "    #THRESHOLD=0.5\n",
    "    #y_pred = np.where(clf_logit.predict_proba(meta_model_test)[:,1]> THRESHOLD,1,0)\n",
    "    y_pred = clf_logit.predict(meta_model_test)\n",
    "\n",
    "    cost = get_confusion_matrix(y_test,y_pred)"
   ]
  },
  {
   "cell_type": "markdown",
   "metadata": {},
   "source": [
    "## 9. Pretraining Model"
   ]
  },
  {
   "cell_type": "code",
   "execution_count": 96,
   "metadata": {},
   "outputs": [
    {
     "name": "stdout",
     "output_type": "stream",
     "text": [
      "AUC score: 0.885\n",
      "------------------------------------------------------------------------------------------------------------------------\n",
      "Confusion Matrix : \n",
      " [[10946   123]\n",
      " [   26    93]]\n",
      "------------------------------------------------------------------------------------------------------------------------\n",
      "Type 1 error (False Positives) :  123\n",
      "Type 2 error (False Negatives) : 26\n",
      "------------------------------------------------------------------------------------------------------------------------\n",
      "Total Cost =  14230\n",
      "------------------------------------------------------------------------------------------------------------------------\n"
     ]
    }
   ],
   "source": [
    "clf_logit = LogisticRegression(n_jobs=-1,random_state=0,C=K,penalty='l2',class_weight={0:1,1:500})\n",
    "clf_logit.fit(meta_model_D2,y2)\n",
    "#THRESHOLD=0.5\n",
    "#y_pred = np.where(clf_logit.predict_proba(meta_model_test)[:,1]> THRESHOLD,1,0)\n",
    "y_pred = clf_logit.predict(meta_model_test)\n",
    "\n",
    "cost = get_confusion_matrix(y_test,y_pred)"
   ]
  },
  {
   "cell_type": "code",
   "execution_count": 97,
   "metadata": {},
   "outputs": [
    {
     "name": "stdout",
     "output_type": "stream",
     "text": [
      "Accuracy : 0.987\n",
      "Precision : 0.431\n",
      "Recall : 0.782\n",
      "f1_score : 0.555\n"
     ]
    }
   ],
   "source": [
    "#accuracy score\n",
    "accuracy = accuracy_score(y_test,y_pred)\n",
    "print('Accuracy : %.3f' % accuracy)\n",
    "#precision\n",
    "precision = precision_score(y_test,y_pred)\n",
    "print('Precision : %.3f' % precision)\n",
    "#Recall\n",
    "recal = recall_score(y_test,y_pred)\n",
    "print('Recall : %.3f' % recal)\n",
    "#f1 score\n",
    "f1 = f1_score(y_test,y_pred)\n",
    "print('f1_score : %.3f' % f1)"
   ]
  },
  {
   "cell_type": "code",
   "execution_count": 98,
   "metadata": {},
   "outputs": [],
   "source": [
    "#Saving the model to disk\n",
    "filename = 'Model_LR80.sav'\n",
    "pickle.dump(clf_logit,open(filename,'wb'))"
   ]
  }
 ],
 "metadata": {
  "kernelspec": {
   "display_name": "Python 3",
   "language": "python",
   "name": "python3"
  },
  "language_info": {
   "codemirror_mode": {
    "name": "ipython",
    "version": 3
   },
   "file_extension": ".py",
   "mimetype": "text/x-python",
   "name": "python",
   "nbconvert_exporter": "python",
   "pygments_lexer": "ipython3",
   "version": "3.7.4"
  }
 },
 "nbformat": 4,
 "nbformat_minor": 2
}
